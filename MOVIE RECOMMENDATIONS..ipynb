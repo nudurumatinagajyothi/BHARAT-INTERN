{
  "nbformat": 4,
  "nbformat_minor": 0,
  "metadata": {
    "colab": {
      "provenance": []
    },
    "kernelspec": {
      "name": "python3",
      "display_name": "Python 3"
    },
    "language_info": {
      "name": "python"
    }
  },
  "cells": [
    {
      "cell_type": "markdown",
      "source": [
        "IMPORTING THE DEPENDENCIES"
      ],
      "metadata": {
        "id": "P2HKW-Z5udqZ"
      }
    },
    {
      "cell_type": "code",
      "execution_count": 14,
      "metadata": {
        "id": "P6t18h9yuXjl"
      },
      "outputs": [],
      "source": [
        "import numpy as np\n",
        "import pandas as pd\n",
        "import difflib\n",
        "from sklearn.feature_extraction.text import TfidfVectorizer\n",
        "from sklearn.metrics.pairwise import cosine_similarity"
      ]
    },
    {
      "cell_type": "markdown",
      "source": [
        "DATA COLLECTION AND PREPROCESSING"
      ],
      "metadata": {
        "id": "98HzdWbe1mqD"
      }
    },
    {
      "cell_type": "code",
      "source": [
        "#loading the data from the csv file to a pandas dataframe\n",
        "movies_data=pd.read_csv('/content/movies.csv')"
      ],
      "metadata": {
        "id": "g_7CmPpf1uiq"
      },
      "execution_count": 15,
      "outputs": []
    },
    {
      "cell_type": "code",
      "source": [
        "#printing the first 5 rows of the data frame\n",
        "movies_data.head()"
      ],
      "metadata": {
        "colab": {
          "base_uri": "https://localhost:8080/",
          "height": 793
        },
        "id": "97K7Rg86184z",
        "outputId": "aec2539b-0b3a-4b93-d4ed-42856084392e"
      },
      "execution_count": null,
      "outputs": [
        {
          "output_type": "execute_result",
          "data": {
            "text/plain": [
              "   index     budget                                    genres  \\\n",
              "0      0  237000000  Action Adventure Fantasy Science Fiction   \n",
              "1      1  300000000                  Adventure Fantasy Action   \n",
              "2      2  245000000                    Action Adventure Crime   \n",
              "3      3  250000000               Action Crime Drama Thriller   \n",
              "4      4  260000000          Action Adventure Science Fiction   \n",
              "\n",
              "                                       homepage      id  \\\n",
              "0                   http://www.avatarmovie.com/   19995   \n",
              "1  http://disney.go.com/disneypictures/pirates/     285   \n",
              "2   http://www.sonypictures.com/movies/spectre/  206647   \n",
              "3            http://www.thedarkknightrises.com/   49026   \n",
              "4          http://movies.disney.com/john-carter   49529   \n",
              "\n",
              "                                            keywords original_language  \\\n",
              "0  culture clash future space war space colony so...                en   \n",
              "1  ocean drug abuse exotic island east india trad...                en   \n",
              "2         spy based on novel secret agent sequel mi6                en   \n",
              "3  dc comics crime fighter terrorist secret ident...                en   \n",
              "4  based on novel mars medallion space travel pri...                en   \n",
              "\n",
              "                             original_title  \\\n",
              "0                                    Avatar   \n",
              "1  Pirates of the Caribbean: At World's End   \n",
              "2                                   Spectre   \n",
              "3                     The Dark Knight Rises   \n",
              "4                               John Carter   \n",
              "\n",
              "                                            overview  popularity  ... runtime  \\\n",
              "0  In the 22nd century, a paraplegic Marine is di...  150.437577  ...   162.0   \n",
              "1  Captain Barbossa, long believed to be dead, ha...  139.082615  ...   169.0   \n",
              "2  A cryptic message from Bond’s past sends him o...  107.376788  ...   148.0   \n",
              "3  Following the death of District Attorney Harve...  112.312950  ...   165.0   \n",
              "4  John Carter is a war-weary, former military ca...   43.926995  ...   132.0   \n",
              "\n",
              "                                    spoken_languages    status  \\\n",
              "0  [{\"iso_639_1\": \"en\", \"name\": \"English\"}, {\"iso...  Released   \n",
              "1           [{\"iso_639_1\": \"en\", \"name\": \"English\"}]  Released   \n",
              "2  [{\"iso_639_1\": \"fr\", \"name\": \"Fran\\u00e7ais\"},...  Released   \n",
              "3           [{\"iso_639_1\": \"en\", \"name\": \"English\"}]  Released   \n",
              "4           [{\"iso_639_1\": \"en\", \"name\": \"English\"}]  Released   \n",
              "\n",
              "                                          tagline  \\\n",
              "0                     Enter the World of Pandora.   \n",
              "1  At the end of the world, the adventure begins.   \n",
              "2                           A Plan No One Escapes   \n",
              "3                                 The Legend Ends   \n",
              "4            Lost in our world, found in another.   \n",
              "\n",
              "                                      title vote_average vote_count  \\\n",
              "0                                    Avatar          7.2      11800   \n",
              "1  Pirates of the Caribbean: At World's End          6.9       4500   \n",
              "2                                   Spectre          6.3       4466   \n",
              "3                     The Dark Knight Rises          7.6       9106   \n",
              "4                               John Carter          6.1       2124   \n",
              "\n",
              "                                                cast  \\\n",
              "0  Sam Worthington Zoe Saldana Sigourney Weaver S...   \n",
              "1  Johnny Depp Orlando Bloom Keira Knightley Stel...   \n",
              "2  Daniel Craig Christoph Waltz L\\u00e9a Seydoux ...   \n",
              "3  Christian Bale Michael Caine Gary Oldman Anne ...   \n",
              "4  Taylor Kitsch Lynn Collins Samantha Morton Wil...   \n",
              "\n",
              "                                                crew           director  \n",
              "0  [{'name': 'Stephen E. Rivkin', 'gender': 0, 'd...      James Cameron  \n",
              "1  [{'name': 'Dariusz Wolski', 'gender': 2, 'depa...     Gore Verbinski  \n",
              "2  [{'name': 'Thomas Newman', 'gender': 2, 'depar...         Sam Mendes  \n",
              "3  [{'name': 'Hans Zimmer', 'gender': 2, 'departm...  Christopher Nolan  \n",
              "4  [{'name': 'Andrew Stanton', 'gender': 2, 'depa...     Andrew Stanton  \n",
              "\n",
              "[5 rows x 24 columns]"
            ],
            "text/html": [
              "\n",
              "  <div id=\"df-5a0db6ed-bf55-4333-8555-5a8e23fba918\" class=\"colab-df-container\">\n",
              "    <div>\n",
              "<style scoped>\n",
              "    .dataframe tbody tr th:only-of-type {\n",
              "        vertical-align: middle;\n",
              "    }\n",
              "\n",
              "    .dataframe tbody tr th {\n",
              "        vertical-align: top;\n",
              "    }\n",
              "\n",
              "    .dataframe thead th {\n",
              "        text-align: right;\n",
              "    }\n",
              "</style>\n",
              "<table border=\"1\" class=\"dataframe\">\n",
              "  <thead>\n",
              "    <tr style=\"text-align: right;\">\n",
              "      <th></th>\n",
              "      <th>index</th>\n",
              "      <th>budget</th>\n",
              "      <th>genres</th>\n",
              "      <th>homepage</th>\n",
              "      <th>id</th>\n",
              "      <th>keywords</th>\n",
              "      <th>original_language</th>\n",
              "      <th>original_title</th>\n",
              "      <th>overview</th>\n",
              "      <th>popularity</th>\n",
              "      <th>...</th>\n",
              "      <th>runtime</th>\n",
              "      <th>spoken_languages</th>\n",
              "      <th>status</th>\n",
              "      <th>tagline</th>\n",
              "      <th>title</th>\n",
              "      <th>vote_average</th>\n",
              "      <th>vote_count</th>\n",
              "      <th>cast</th>\n",
              "      <th>crew</th>\n",
              "      <th>director</th>\n",
              "    </tr>\n",
              "  </thead>\n",
              "  <tbody>\n",
              "    <tr>\n",
              "      <th>0</th>\n",
              "      <td>0</td>\n",
              "      <td>237000000</td>\n",
              "      <td>Action Adventure Fantasy Science Fiction</td>\n",
              "      <td>http://www.avatarmovie.com/</td>\n",
              "      <td>19995</td>\n",
              "      <td>culture clash future space war space colony so...</td>\n",
              "      <td>en</td>\n",
              "      <td>Avatar</td>\n",
              "      <td>In the 22nd century, a paraplegic Marine is di...</td>\n",
              "      <td>150.437577</td>\n",
              "      <td>...</td>\n",
              "      <td>162.0</td>\n",
              "      <td>[{\"iso_639_1\": \"en\", \"name\": \"English\"}, {\"iso...</td>\n",
              "      <td>Released</td>\n",
              "      <td>Enter the World of Pandora.</td>\n",
              "      <td>Avatar</td>\n",
              "      <td>7.2</td>\n",
              "      <td>11800</td>\n",
              "      <td>Sam Worthington Zoe Saldana Sigourney Weaver S...</td>\n",
              "      <td>[{'name': 'Stephen E. Rivkin', 'gender': 0, 'd...</td>\n",
              "      <td>James Cameron</td>\n",
              "    </tr>\n",
              "    <tr>\n",
              "      <th>1</th>\n",
              "      <td>1</td>\n",
              "      <td>300000000</td>\n",
              "      <td>Adventure Fantasy Action</td>\n",
              "      <td>http://disney.go.com/disneypictures/pirates/</td>\n",
              "      <td>285</td>\n",
              "      <td>ocean drug abuse exotic island east india trad...</td>\n",
              "      <td>en</td>\n",
              "      <td>Pirates of the Caribbean: At World's End</td>\n",
              "      <td>Captain Barbossa, long believed to be dead, ha...</td>\n",
              "      <td>139.082615</td>\n",
              "      <td>...</td>\n",
              "      <td>169.0</td>\n",
              "      <td>[{\"iso_639_1\": \"en\", \"name\": \"English\"}]</td>\n",
              "      <td>Released</td>\n",
              "      <td>At the end of the world, the adventure begins.</td>\n",
              "      <td>Pirates of the Caribbean: At World's End</td>\n",
              "      <td>6.9</td>\n",
              "      <td>4500</td>\n",
              "      <td>Johnny Depp Orlando Bloom Keira Knightley Stel...</td>\n",
              "      <td>[{'name': 'Dariusz Wolski', 'gender': 2, 'depa...</td>\n",
              "      <td>Gore Verbinski</td>\n",
              "    </tr>\n",
              "    <tr>\n",
              "      <th>2</th>\n",
              "      <td>2</td>\n",
              "      <td>245000000</td>\n",
              "      <td>Action Adventure Crime</td>\n",
              "      <td>http://www.sonypictures.com/movies/spectre/</td>\n",
              "      <td>206647</td>\n",
              "      <td>spy based on novel secret agent sequel mi6</td>\n",
              "      <td>en</td>\n",
              "      <td>Spectre</td>\n",
              "      <td>A cryptic message from Bond’s past sends him o...</td>\n",
              "      <td>107.376788</td>\n",
              "      <td>...</td>\n",
              "      <td>148.0</td>\n",
              "      <td>[{\"iso_639_1\": \"fr\", \"name\": \"Fran\\u00e7ais\"},...</td>\n",
              "      <td>Released</td>\n",
              "      <td>A Plan No One Escapes</td>\n",
              "      <td>Spectre</td>\n",
              "      <td>6.3</td>\n",
              "      <td>4466</td>\n",
              "      <td>Daniel Craig Christoph Waltz L\\u00e9a Seydoux ...</td>\n",
              "      <td>[{'name': 'Thomas Newman', 'gender': 2, 'depar...</td>\n",
              "      <td>Sam Mendes</td>\n",
              "    </tr>\n",
              "    <tr>\n",
              "      <th>3</th>\n",
              "      <td>3</td>\n",
              "      <td>250000000</td>\n",
              "      <td>Action Crime Drama Thriller</td>\n",
              "      <td>http://www.thedarkknightrises.com/</td>\n",
              "      <td>49026</td>\n",
              "      <td>dc comics crime fighter terrorist secret ident...</td>\n",
              "      <td>en</td>\n",
              "      <td>The Dark Knight Rises</td>\n",
              "      <td>Following the death of District Attorney Harve...</td>\n",
              "      <td>112.312950</td>\n",
              "      <td>...</td>\n",
              "      <td>165.0</td>\n",
              "      <td>[{\"iso_639_1\": \"en\", \"name\": \"English\"}]</td>\n",
              "      <td>Released</td>\n",
              "      <td>The Legend Ends</td>\n",
              "      <td>The Dark Knight Rises</td>\n",
              "      <td>7.6</td>\n",
              "      <td>9106</td>\n",
              "      <td>Christian Bale Michael Caine Gary Oldman Anne ...</td>\n",
              "      <td>[{'name': 'Hans Zimmer', 'gender': 2, 'departm...</td>\n",
              "      <td>Christopher Nolan</td>\n",
              "    </tr>\n",
              "    <tr>\n",
              "      <th>4</th>\n",
              "      <td>4</td>\n",
              "      <td>260000000</td>\n",
              "      <td>Action Adventure Science Fiction</td>\n",
              "      <td>http://movies.disney.com/john-carter</td>\n",
              "      <td>49529</td>\n",
              "      <td>based on novel mars medallion space travel pri...</td>\n",
              "      <td>en</td>\n",
              "      <td>John Carter</td>\n",
              "      <td>John Carter is a war-weary, former military ca...</td>\n",
              "      <td>43.926995</td>\n",
              "      <td>...</td>\n",
              "      <td>132.0</td>\n",
              "      <td>[{\"iso_639_1\": \"en\", \"name\": \"English\"}]</td>\n",
              "      <td>Released</td>\n",
              "      <td>Lost in our world, found in another.</td>\n",
              "      <td>John Carter</td>\n",
              "      <td>6.1</td>\n",
              "      <td>2124</td>\n",
              "      <td>Taylor Kitsch Lynn Collins Samantha Morton Wil...</td>\n",
              "      <td>[{'name': 'Andrew Stanton', 'gender': 2, 'depa...</td>\n",
              "      <td>Andrew Stanton</td>\n",
              "    </tr>\n",
              "  </tbody>\n",
              "</table>\n",
              "<p>5 rows × 24 columns</p>\n",
              "</div>\n",
              "    <div class=\"colab-df-buttons\">\n",
              "\n",
              "  <div class=\"colab-df-container\">\n",
              "    <button class=\"colab-df-convert\" onclick=\"convertToInteractive('df-5a0db6ed-bf55-4333-8555-5a8e23fba918')\"\n",
              "            title=\"Convert this dataframe to an interactive table.\"\n",
              "            style=\"display:none;\">\n",
              "\n",
              "  <svg xmlns=\"http://www.w3.org/2000/svg\" height=\"24px\" viewBox=\"0 -960 960 960\">\n",
              "    <path d=\"M120-120v-720h720v720H120Zm60-500h600v-160H180v160Zm220 220h160v-160H400v160Zm0 220h160v-160H400v160ZM180-400h160v-160H180v160Zm440 0h160v-160H620v160ZM180-180h160v-160H180v160Zm440 0h160v-160H620v160Z\"/>\n",
              "  </svg>\n",
              "    </button>\n",
              "\n",
              "  <style>\n",
              "    .colab-df-container {\n",
              "      display:flex;\n",
              "      gap: 12px;\n",
              "    }\n",
              "\n",
              "    .colab-df-convert {\n",
              "      background-color: #E8F0FE;\n",
              "      border: none;\n",
              "      border-radius: 50%;\n",
              "      cursor: pointer;\n",
              "      display: none;\n",
              "      fill: #1967D2;\n",
              "      height: 32px;\n",
              "      padding: 0 0 0 0;\n",
              "      width: 32px;\n",
              "    }\n",
              "\n",
              "    .colab-df-convert:hover {\n",
              "      background-color: #E2EBFA;\n",
              "      box-shadow: 0px 1px 2px rgba(60, 64, 67, 0.3), 0px 1px 3px 1px rgba(60, 64, 67, 0.15);\n",
              "      fill: #174EA6;\n",
              "    }\n",
              "\n",
              "    .colab-df-buttons div {\n",
              "      margin-bottom: 4px;\n",
              "    }\n",
              "\n",
              "    [theme=dark] .colab-df-convert {\n",
              "      background-color: #3B4455;\n",
              "      fill: #D2E3FC;\n",
              "    }\n",
              "\n",
              "    [theme=dark] .colab-df-convert:hover {\n",
              "      background-color: #434B5C;\n",
              "      box-shadow: 0px 1px 3px 1px rgba(0, 0, 0, 0.15);\n",
              "      filter: drop-shadow(0px 1px 2px rgba(0, 0, 0, 0.3));\n",
              "      fill: #FFFFFF;\n",
              "    }\n",
              "  </style>\n",
              "\n",
              "    <script>\n",
              "      const buttonEl =\n",
              "        document.querySelector('#df-5a0db6ed-bf55-4333-8555-5a8e23fba918 button.colab-df-convert');\n",
              "      buttonEl.style.display =\n",
              "        google.colab.kernel.accessAllowed ? 'block' : 'none';\n",
              "\n",
              "      async function convertToInteractive(key) {\n",
              "        const element = document.querySelector('#df-5a0db6ed-bf55-4333-8555-5a8e23fba918');\n",
              "        const dataTable =\n",
              "          await google.colab.kernel.invokeFunction('convertToInteractive',\n",
              "                                                    [key], {});\n",
              "        if (!dataTable) return;\n",
              "\n",
              "        const docLinkHtml = 'Like what you see? Visit the ' +\n",
              "          '<a target=\"_blank\" href=https://colab.research.google.com/notebooks/data_table.ipynb>data table notebook</a>'\n",
              "          + ' to learn more about interactive tables.';\n",
              "        element.innerHTML = '';\n",
              "        dataTable['output_type'] = 'display_data';\n",
              "        await google.colab.output.renderOutput(dataTable, element);\n",
              "        const docLink = document.createElement('div');\n",
              "        docLink.innerHTML = docLinkHtml;\n",
              "        element.appendChild(docLink);\n",
              "      }\n",
              "    </script>\n",
              "  </div>\n",
              "\n",
              "\n",
              "<div id=\"df-1cb79d07-c349-4565-9873-1e48259a4e15\">\n",
              "  <button class=\"colab-df-quickchart\" onclick=\"quickchart('df-1cb79d07-c349-4565-9873-1e48259a4e15')\"\n",
              "            title=\"Suggest charts\"\n",
              "            style=\"display:none;\">\n",
              "\n",
              "<svg xmlns=\"http://www.w3.org/2000/svg\" height=\"24px\"viewBox=\"0 0 24 24\"\n",
              "     width=\"24px\">\n",
              "    <g>\n",
              "        <path d=\"M19 3H5c-1.1 0-2 .9-2 2v14c0 1.1.9 2 2 2h14c1.1 0 2-.9 2-2V5c0-1.1-.9-2-2-2zM9 17H7v-7h2v7zm4 0h-2V7h2v10zm4 0h-2v-4h2v4z\"/>\n",
              "    </g>\n",
              "</svg>\n",
              "  </button>\n",
              "\n",
              "<style>\n",
              "  .colab-df-quickchart {\n",
              "      --bg-color: #E8F0FE;\n",
              "      --fill-color: #1967D2;\n",
              "      --hover-bg-color: #E2EBFA;\n",
              "      --hover-fill-color: #174EA6;\n",
              "      --disabled-fill-color: #AAA;\n",
              "      --disabled-bg-color: #DDD;\n",
              "  }\n",
              "\n",
              "  [theme=dark] .colab-df-quickchart {\n",
              "      --bg-color: #3B4455;\n",
              "      --fill-color: #D2E3FC;\n",
              "      --hover-bg-color: #434B5C;\n",
              "      --hover-fill-color: #FFFFFF;\n",
              "      --disabled-bg-color: #3B4455;\n",
              "      --disabled-fill-color: #666;\n",
              "  }\n",
              "\n",
              "  .colab-df-quickchart {\n",
              "    background-color: var(--bg-color);\n",
              "    border: none;\n",
              "    border-radius: 50%;\n",
              "    cursor: pointer;\n",
              "    display: none;\n",
              "    fill: var(--fill-color);\n",
              "    height: 32px;\n",
              "    padding: 0;\n",
              "    width: 32px;\n",
              "  }\n",
              "\n",
              "  .colab-df-quickchart:hover {\n",
              "    background-color: var(--hover-bg-color);\n",
              "    box-shadow: 0 1px 2px rgba(60, 64, 67, 0.3), 0 1px 3px 1px rgba(60, 64, 67, 0.15);\n",
              "    fill: var(--button-hover-fill-color);\n",
              "  }\n",
              "\n",
              "  .colab-df-quickchart-complete:disabled,\n",
              "  .colab-df-quickchart-complete:disabled:hover {\n",
              "    background-color: var(--disabled-bg-color);\n",
              "    fill: var(--disabled-fill-color);\n",
              "    box-shadow: none;\n",
              "  }\n",
              "\n",
              "  .colab-df-spinner {\n",
              "    border: 2px solid var(--fill-color);\n",
              "    border-color: transparent;\n",
              "    border-bottom-color: var(--fill-color);\n",
              "    animation:\n",
              "      spin 1s steps(1) infinite;\n",
              "  }\n",
              "\n",
              "  @keyframes spin {\n",
              "    0% {\n",
              "      border-color: transparent;\n",
              "      border-bottom-color: var(--fill-color);\n",
              "      border-left-color: var(--fill-color);\n",
              "    }\n",
              "    20% {\n",
              "      border-color: transparent;\n",
              "      border-left-color: var(--fill-color);\n",
              "      border-top-color: var(--fill-color);\n",
              "    }\n",
              "    30% {\n",
              "      border-color: transparent;\n",
              "      border-left-color: var(--fill-color);\n",
              "      border-top-color: var(--fill-color);\n",
              "      border-right-color: var(--fill-color);\n",
              "    }\n",
              "    40% {\n",
              "      border-color: transparent;\n",
              "      border-right-color: var(--fill-color);\n",
              "      border-top-color: var(--fill-color);\n",
              "    }\n",
              "    60% {\n",
              "      border-color: transparent;\n",
              "      border-right-color: var(--fill-color);\n",
              "    }\n",
              "    80% {\n",
              "      border-color: transparent;\n",
              "      border-right-color: var(--fill-color);\n",
              "      border-bottom-color: var(--fill-color);\n",
              "    }\n",
              "    90% {\n",
              "      border-color: transparent;\n",
              "      border-bottom-color: var(--fill-color);\n",
              "    }\n",
              "  }\n",
              "</style>\n",
              "\n",
              "  <script>\n",
              "    async function quickchart(key) {\n",
              "      const quickchartButtonEl =\n",
              "        document.querySelector('#' + key + ' button');\n",
              "      quickchartButtonEl.disabled = true;  // To prevent multiple clicks.\n",
              "      quickchartButtonEl.classList.add('colab-df-spinner');\n",
              "      try {\n",
              "        const charts = await google.colab.kernel.invokeFunction(\n",
              "            'suggestCharts', [key], {});\n",
              "      } catch (error) {\n",
              "        console.error('Error during call to suggestCharts:', error);\n",
              "      }\n",
              "      quickchartButtonEl.classList.remove('colab-df-spinner');\n",
              "      quickchartButtonEl.classList.add('colab-df-quickchart-complete');\n",
              "    }\n",
              "    (() => {\n",
              "      let quickchartButtonEl =\n",
              "        document.querySelector('#df-1cb79d07-c349-4565-9873-1e48259a4e15 button');\n",
              "      quickchartButtonEl.style.display =\n",
              "        google.colab.kernel.accessAllowed ? 'block' : 'none';\n",
              "    })();\n",
              "  </script>\n",
              "</div>\n",
              "\n",
              "    </div>\n",
              "  </div>\n"
            ]
          },
          "metadata": {},
          "execution_count": 61
        }
      ]
    },
    {
      "cell_type": "code",
      "source": [
        "#find the number of rows and columns in the dataframe\n",
        "movies_data.shape"
      ],
      "metadata": {
        "colab": {
          "base_uri": "https://localhost:8080/"
        },
        "id": "QTFgOjA93UjG",
        "outputId": "645c42fd-c82b-473b-8f08-d9381e716dbc"
      },
      "execution_count": 16,
      "outputs": [
        {
          "output_type": "execute_result",
          "data": {
            "text/plain": [
              "(4803, 24)"
            ]
          },
          "metadata": {},
          "execution_count": 16
        }
      ]
    },
    {
      "cell_type": "code",
      "source": [
        "#selecting the relevant features for recommendation\n",
        "selected_features=['genres','keywords','tagline','cast','director']\n",
        "print(selected_features)"
      ],
      "metadata": {
        "colab": {
          "base_uri": "https://localhost:8080/"
        },
        "id": "BdKAXEsf3kdn",
        "outputId": "31a89123-05a0-4673-ec76-9e64c790f771"
      },
      "execution_count": 17,
      "outputs": [
        {
          "output_type": "stream",
          "name": "stdout",
          "text": [
            "['genres', 'keywords', 'tagline', 'cast', 'director']\n"
          ]
        }
      ]
    },
    {
      "cell_type": "code",
      "source": [
        "#replace the null values with null string\n",
        "for feature in selected_features:\n",
        "  movies_data[feature]=movies_data[feature].fillna('')"
      ],
      "metadata": {
        "id": "Iv8dZWXf4kYv"
      },
      "execution_count": 18,
      "outputs": []
    },
    {
      "cell_type": "code",
      "source": [
        "#combining all the five selected features\n",
        "combined_features=movies_data['genres']+''+movies_data['keywords']+''+movies_data['tagline']+''+movies_data['cast']+''+movies_data['director']"
      ],
      "metadata": {
        "id": "DWhStjC-5jzY"
      },
      "execution_count": 19,
      "outputs": []
    },
    {
      "cell_type": "code",
      "source": [
        "print(combined_features)"
      ],
      "metadata": {
        "colab": {
          "base_uri": "https://localhost:8080/"
        },
        "id": "3wDsP6jo6dTO",
        "outputId": "f3930fb9-f3a1-4c0a-876d-adde22a910ee"
      },
      "execution_count": 20,
      "outputs": [
        {
          "output_type": "stream",
          "name": "stdout",
          "text": [
            "0       Action Adventure Fantasy Science Fictioncultur...\n",
            "1       Adventure Fantasy Actionocean drug abuse exoti...\n",
            "2       Action Adventure Crimespy based on novel secre...\n",
            "3       Action Crime Drama Thrillerdc comics crime fig...\n",
            "4       Action Adventure Science Fictionbased on novel...\n",
            "                              ...                        \n",
            "4798    Action Crime Thrillerunited states\\u2013mexico...\n",
            "4799    Comedy RomanceA newlywed couple's honeymoon is...\n",
            "4800    Comedy Drama Romance TV Moviedate love at firs...\n",
            "4801    A New Yorker in ShanghaiDaniel Henney Eliza Co...\n",
            "4802    Documentaryobsession camcorder crush dream gir...\n",
            "Length: 4803, dtype: object\n"
          ]
        }
      ]
    },
    {
      "cell_type": "code",
      "source": [
        "#converting the text data to features vector\n",
        "vectorizer = TfidfVectorizer()"
      ],
      "metadata": {
        "id": "Y4h9hfSX67nz"
      },
      "execution_count": 21,
      "outputs": []
    },
    {
      "cell_type": "code",
      "source": [
        "features_vectors=vectorizer.fit_transform(combined_features)"
      ],
      "metadata": {
        "id": "cGdrDYKk7RYU"
      },
      "execution_count": 22,
      "outputs": []
    },
    {
      "cell_type": "code",
      "source": [
        "print(features_vectors)"
      ],
      "metadata": {
        "colab": {
          "base_uri": "https://localhost:8080/"
        },
        "id": "SZO1kj0O73_V",
        "outputId": "7ff8439c-fdbf-488a-eb87-3974f092c8f8"
      },
      "execution_count": 23,
      "outputs": [
        {
          "output_type": "stream",
          "name": "stdout",
          "text": [
            "  (0, 3583)\t0.16941894714909375\n",
            "  (0, 20729)\t0.2738578969459924\n",
            "  (0, 16614)\t0.15696073877453268\n",
            "  (0, 14550)\t0.2236809363648068\n",
            "  (0, 23267)\t0.16128139780622516\n",
            "  (0, 26547)\t0.19638671147741732\n",
            "  (0, 22464)\t0.20207089568711745\n",
            "  (0, 21487)\t0.21550128478931546\n",
            "  (0, 27540)\t0.19771357974524176\n",
            "  (0, 27182)\t0.23480088356130552\n",
            "  (0, 21521)\t0.1562356665943368\n",
            "  (0, 18558)\t0.2612168335104853\n",
            "  (0, 18164)\t0.08690831799482265\n",
            "  (0, 27161)\t0.1261988657937151\n",
            "  (0, 24197)\t0.07518543993419265\n",
            "  (0, 22778)\t0.2738578969459924\n",
            "  (0, 4676)\t0.2452909770424961\n",
            "  (0, 26334)\t0.13059723071916296\n",
            "  (0, 22916)\t0.33668756406929184\n",
            "  (0, 10193)\t0.16532432420812987\n",
            "  (0, 4456)\t0.21799675215510664\n",
            "  (0, 9304)\t0.2738578969459924\n",
            "  (0, 21836)\t0.09966592997173944\n",
            "  (0, 8936)\t0.11806131645084653\n",
            "  (0, 444)\t0.09109355212252294\n",
            "  :\t:\n",
            "  (4801, 5449)\t0.31510541707008866\n",
            "  (4801, 22170)\t0.31510541707008866\n",
            "  (4801, 27361)\t0.31510541707008866\n",
            "  (4801, 27513)\t0.3005604008026175\n",
            "  (4801, 8121)\t0.2611505149930138\n",
            "  (4801, 758)\t0.19369913462690624\n",
            "  (4801, 11776)\t0.3005604008026175\n",
            "  (4801, 18790)\t0.22450140828104795\n",
            "  (4801, 2511)\t0.16619755360453184\n",
            "  (4801, 17791)\t0.15702571586793676\n",
            "  (4801, 12846)\t0.1232063996421506\n",
            "  (4802, 7770)\t0.28212235292045307\n",
            "  (4802, 11874)\t0.5642447058409061\n",
            "  (4802, 10640)\t0.28212235292045307\n",
            "  (4802, 6978)\t0.28212235292045307\n",
            "  (4802, 3569)\t0.2526933433912742\n",
            "  (4802, 9174)\t0.23381507827213685\n",
            "  (4802, 5847)\t0.2598601666162226\n",
            "  (4802, 11042)\t0.2245754361399493\n",
            "  (4802, 20664)\t0.1718311116708895\n",
            "  (4802, 2027)\t0.19514642661077047\n",
            "  (4802, 5354)\t0.2196244946235084\n",
            "  (4802, 8313)\t0.1713172199751922\n",
            "  (4802, 3128)\t0.17288424030654004\n",
            "  (4802, 7626)\t0.17686850692938538\n"
          ]
        }
      ]
    },
    {
      "cell_type": "markdown",
      "source": [
        "COSINE SIMILARITY\n"
      ],
      "metadata": {
        "id": "YQcJlBcH8NAC"
      }
    },
    {
      "cell_type": "code",
      "source": [
        "#getting the similarity scores using cosine similarity\n",
        "similarity=cosine_similarity(features_vectors)"
      ],
      "metadata": {
        "id": "JBq-nrO18LEM"
      },
      "execution_count": 24,
      "outputs": []
    },
    {
      "cell_type": "code",
      "source": [
        "print(similarity)"
      ],
      "metadata": {
        "colab": {
          "base_uri": "https://localhost:8080/"
        },
        "id": "YBeSDdfj88hQ",
        "outputId": "63b121c3-6ecc-4607-d4f9-97030ef9b05f"
      },
      "execution_count": 25,
      "outputs": [
        {
          "output_type": "stream",
          "name": "stdout",
          "text": [
            "[[1.         0.06865296 0.01492221 ... 0.         0.         0.        ]\n",
            " [0.06865296 1.         0.02799128 ... 0.01243107 0.         0.        ]\n",
            " [0.01492221 0.02799128 1.         ... 0.         0.         0.        ]\n",
            " ...\n",
            " [0.         0.01243107 0.         ... 1.         0.         0.        ]\n",
            " [0.         0.         0.         ... 0.         1.         0.        ]\n",
            " [0.         0.         0.         ... 0.         0.         1.        ]]\n"
          ]
        }
      ]
    },
    {
      "cell_type": "code",
      "source": [
        "print(similarity.shape)"
      ],
      "metadata": {
        "colab": {
          "base_uri": "https://localhost:8080/"
        },
        "id": "mdX870dk8sMF",
        "outputId": "a2c7c255-6033-414a-8eda-c1727ce3acec"
      },
      "execution_count": 26,
      "outputs": [
        {
          "output_type": "stream",
          "name": "stdout",
          "text": [
            "(4803, 4803)\n"
          ]
        }
      ]
    },
    {
      "cell_type": "markdown",
      "source": [
        "GETTING THE MOVIE NAME FROM THE USER"
      ],
      "metadata": {
        "id": "agRbm1qBCvBe"
      }
    },
    {
      "cell_type": "code",
      "source": [
        "# getting the movie name from the user\n",
        "\n",
        "movie_name = input(' Enter your favourite movie name : ')"
      ],
      "metadata": {
        "colab": {
          "base_uri": "https://localhost:8080/"
        },
        "id": "buSxrITJHLvZ",
        "outputId": "db4c9d47-b28c-4474-e7b7-7d3de1a390d9"
      },
      "execution_count": 27,
      "outputs": [
        {
          "name": "stdout",
          "output_type": "stream",
          "text": [
            " Enter your favourite movie name : iron man\n"
          ]
        }
      ]
    },
    {
      "cell_type": "code",
      "source": [
        "# creating a list with all the movie names given in the dataset\n",
        "\n",
        "list_of_all_titles = movies_data['title'].tolist()"
      ],
      "metadata": {
        "id": "KMqw2wY3_fDU"
      },
      "execution_count": 32,
      "outputs": []
    },
    {
      "cell_type": "code",
      "source": [
        "# finding the close match for the movie name given by the user\n",
        "\n",
        "find_close_match = difflib.get_close_matches(movie_name,list_of_all_titles)\n",
        "print(find_close_match)"
      ],
      "metadata": {
        "colab": {
          "base_uri": "https://localhost:8080/"
        },
        "id": "nIEKT_rvHf0c",
        "outputId": "ecaa2456-b4e1-40b2-81bf-a05be1bd1250"
      },
      "execution_count": 33,
      "outputs": [
        {
          "output_type": "stream",
          "name": "stdout",
          "text": [
            "['Iron Man', 'Iron Man 3', 'Iron Man 2']\n"
          ]
        }
      ]
    },
    {
      "cell_type": "code",
      "source": [
        "close_match = find_close_match[0]\n",
        "print(close_match)"
      ],
      "metadata": {
        "colab": {
          "base_uri": "https://localhost:8080/"
        },
        "id": "Cai1anBhHkbk",
        "outputId": "5d87de1c-e79f-41ee-8dd7-118a3980543c"
      },
      "execution_count": 34,
      "outputs": [
        {
          "output_type": "stream",
          "name": "stdout",
          "text": [
            "Iron Man\n"
          ]
        }
      ]
    },
    {
      "cell_type": "code",
      "source": [
        "# finding the index of the movie with title\n",
        "\n",
        "index_of_the_movie = movies_data[movies_data.title == close_match]['index'].values[0]\n",
        "print(index_of_the_movie)"
      ],
      "metadata": {
        "colab": {
          "base_uri": "https://localhost:8080/"
        },
        "id": "Xg410gn4Hnz7",
        "outputId": "b0ff7612-7564-4287-8939-4a6db00aebf0"
      },
      "execution_count": 35,
      "outputs": [
        {
          "output_type": "stream",
          "name": "stdout",
          "text": [
            "68\n"
          ]
        }
      ]
    },
    {
      "cell_type": "code",
      "source": [
        "# getting a list of similar movies\n",
        "\n",
        "similarity_score = list(enumerate(similarity[index_of_the_movie]))"
      ],
      "metadata": {
        "id": "iLYeSBsw_73_"
      },
      "execution_count": 36,
      "outputs": []
    },
    {
      "cell_type": "code",
      "source": [
        "len(similarity_score)"
      ],
      "metadata": {
        "colab": {
          "base_uri": "https://localhost:8080/"
        },
        "id": "Lx1be8zfKanF",
        "outputId": "dce184b8-6b76-461f-b59a-5f7d70370c25"
      },
      "execution_count": 37,
      "outputs": [
        {
          "output_type": "execute_result",
          "data": {
            "text/plain": [
              "4803"
            ]
          },
          "metadata": {},
          "execution_count": 37
        }
      ]
    },
    {
      "cell_type": "code",
      "source": [
        "# sorting the movies based on their similarity score\n",
        "\n",
        "sorted_similar_movies = sorted(similarity_score, key = lambda x:x[1], reverse = True)"
      ],
      "metadata": {
        "id": "aIrv4bF5Hvci"
      },
      "execution_count": 39,
      "outputs": []
    },
    {
      "cell_type": "code",
      "source": [
        "# print the name of similar movies based on the index\n",
        "\n",
        "print('Movies suggested for you : \\n')\n",
        "\n",
        "i = 1\n",
        "\n",
        "for movie in sorted_similar_movies:\n",
        "  index = movie[0]\n",
        "  title_from_index = movies_data[movies_data.index==index]['title'].values[0]\n",
        "  if (i<30):\n",
        "    print(i, '.',title_from_index)\n",
        "    i+=1"
      ],
      "metadata": {
        "colab": {
          "base_uri": "https://localhost:8080/"
        },
        "id": "wiVa0jIxLF1A",
        "outputId": "ce4cff48-cf48-4fc4-edaa-eaf853ed59ac"
      },
      "execution_count": 41,
      "outputs": [
        {
          "output_type": "stream",
          "name": "stdout",
          "text": [
            "Movies suggested for you : \n",
            "\n",
            "1 . Iron Man\n",
            "2 . Iron Man 2\n",
            "3 . Iron Man 3\n",
            "4 . The Avengers\n",
            "5 . Captain America: Civil War\n",
            "6 . The Helix... Loaded\n",
            "7 . Avengers: Age of Ultron\n",
            "8 . X-Men: The Last Stand\n",
            "9 . X-Men: Days of Future Past\n",
            "10 . X-Men\n",
            "11 . X2\n",
            "12 . Made\n",
            "13 . Tropic Thunder\n",
            "14 . The Incredible Hulk\n",
            "15 . X-Men: Apocalypse\n",
            "16 . The Amazing Spider-Man 2\n",
            "17 . Captain America: The Winter Soldier\n",
            "18 . Gothika\n",
            "19 . X-Men: First Class\n",
            "20 . A Scanner Darkly\n",
            "21 . The Judge\n",
            "22 . Deadpool\n",
            "23 . The Best Man\n",
            "24 . The Nativity Story\n",
            "25 . Lucky You\n",
            "26 . The Kite Runner\n",
            "27 . Arlington Road\n",
            "28 . Ant-Man\n",
            "29 . The Hunting Party\n"
          ]
        }
      ]
    },
    {
      "cell_type": "code",
      "source": [
        "movie_name = input(' Enter your favourite movie name : ')\n",
        "\n",
        "list_of_all_titles = movies_data['title'].tolist()\n",
        "\n",
        "find_close_match = difflib.get_close_matches(movie_name, list_of_all_titles)\n",
        "\n",
        "close_match = find_close_match[0]\n",
        "\n",
        "index_of_the_movie = movies_data[movies_data.title == close_match]['index'].values[0]\n",
        "\n",
        "similarity_score = list(enumerate(similarity[index_of_the_movie]))\n",
        "\n",
        "sorted_similar_movies = sorted(similarity_score, key = lambda x:x[1], reverse = True)\n",
        "\n",
        "print('Movies suggested for you : \\n')\n",
        "\n",
        "i = 1\n",
        "\n",
        "for movie in sorted_similar_movies:\n",
        "  index = movie[0]\n",
        "  title_from_index = movies_data[movies_data.index==index]['title'].values[0]\n",
        "  if (i<30):\n",
        "    print(i, '.',title_from_index)\n",
        "    i+=1"
      ],
      "metadata": {
        "colab": {
          "base_uri": "https://localhost:8080/"
        },
        "id": "MU1ROZJBH_M-",
        "outputId": "e7aed5a1-c1b4-4d64-b3a2-26ec05b4f501"
      },
      "execution_count": 42,
      "outputs": [
        {
          "output_type": "stream",
          "name": "stdout",
          "text": [
            " Enter your favourite movie name : bat man\n",
            "Movies suggested for you : \n",
            "\n",
            "1 . Batman\n",
            "2 . Batman Returns\n",
            "3 . Batman & Robin\n",
            "4 . Batman Begins\n",
            "5 . Man of Steel\n",
            "6 . Beetlejuice\n",
            "7 . Mars Attacks!\n",
            "8 . Superman Returns\n",
            "9 . Jonah Hex\n",
            "10 . The Dark Knight Rises\n",
            "11 . Superman III\n",
            "12 . Bedazzled\n",
            "13 . A History of Violence\n",
            "14 . Reds\n",
            "15 . I Dreamed of Africa\n",
            "16 . The Dark Knight\n",
            "17 . Superman\n",
            "18 . Something's Gotta Give\n",
            "19 . Exorcist II: The Heretic\n",
            "20 . Superman II\n",
            "21 . Blood and Wine\n",
            "22 . The New Guy\n",
            "23 . Catwoman\n",
            "24 . 8 Mile\n",
            "25 . Nine 1/2 Weeks\n",
            "26 . Batman\n",
            "27 . Batman Forever\n",
            "28 . Multiplicity\n",
            "29 . Cellular\n"
          ]
        }
      ]
    }
  ]
}